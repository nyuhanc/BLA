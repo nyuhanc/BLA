{
 "cells": [
  {
   "cell_type": "code",
   "execution_count": 10,
   "metadata": {
    "collapsed": true,
    "ExecuteTime": {
     "end_time": "2023-06-24T16:02:24.478065539Z",
     "start_time": "2023-06-24T16:02:24.399820519Z"
    }
   },
   "outputs": [
    {
     "ename": "ValueError",
     "evalue": "zero-size array to reduction operation maximum which has no identity",
     "output_type": "error",
     "traceback": [
      "\u001B[0;31m---------------------------------------------------------------------------\u001B[0m",
      "\u001B[0;31mValueError\u001B[0m                                Traceback (most recent call last)",
      "\u001B[0;32m/tmp/ipykernel_24548/1955710177.py\u001B[0m in \u001B[0;36m<module>\u001B[0;34m\u001B[0m\n\u001B[1;32m     48\u001B[0m \u001B[0;31m# For each X, calculate VIF and save in dataframe\u001B[0m\u001B[0;34m\u001B[0m\u001B[0;34m\u001B[0m\u001B[0m\n\u001B[1;32m     49\u001B[0m \u001B[0mvif\u001B[0m \u001B[0;34m=\u001B[0m \u001B[0mpd\u001B[0m\u001B[0;34m.\u001B[0m\u001B[0mDataFrame\u001B[0m\u001B[0;34m(\u001B[0m\u001B[0;34m)\u001B[0m\u001B[0;34m\u001B[0m\u001B[0;34m\u001B[0m\u001B[0m\n\u001B[0;32m---> 50\u001B[0;31m \u001B[0mvif\u001B[0m\u001B[0;34m[\u001B[0m\u001B[0;34m\"VIF Factor\"\u001B[0m\u001B[0;34m]\u001B[0m \u001B[0;34m=\u001B[0m \u001B[0;34m[\u001B[0m\u001B[0mvariance_inflation_factor\u001B[0m\u001B[0;34m(\u001B[0m\u001B[0mdf_vars\u001B[0m\u001B[0;34m.\u001B[0m\u001B[0mvalues\u001B[0m\u001B[0;34m,\u001B[0m \u001B[0mi\u001B[0m\u001B[0;34m)\u001B[0m \u001B[0;32mfor\u001B[0m \u001B[0mi\u001B[0m \u001B[0;32min\u001B[0m \u001B[0mrange\u001B[0m\u001B[0;34m(\u001B[0m\u001B[0mdf_vars\u001B[0m\u001B[0;34m.\u001B[0m\u001B[0mshape\u001B[0m\u001B[0;34m[\u001B[0m\u001B[0;36m1\u001B[0m\u001B[0;34m]\u001B[0m\u001B[0;34m)\u001B[0m\u001B[0;34m]\u001B[0m\u001B[0;34m\u001B[0m\u001B[0;34m\u001B[0m\u001B[0m\n\u001B[0m\u001B[1;32m     51\u001B[0m \u001B[0mvif\u001B[0m\u001B[0;34m[\u001B[0m\u001B[0;34m\"features\"\u001B[0m\u001B[0;34m]\u001B[0m \u001B[0;34m=\u001B[0m \u001B[0mdf_vars\u001B[0m\u001B[0;34m.\u001B[0m\u001B[0mcolumns\u001B[0m\u001B[0;34m\u001B[0m\u001B[0;34m\u001B[0m\u001B[0m\n\u001B[1;32m     52\u001B[0m \u001B[0;34m\u001B[0m\u001B[0m\n",
      "\u001B[0;32m/tmp/ipykernel_24548/1955710177.py\u001B[0m in \u001B[0;36m<listcomp>\u001B[0;34m(.0)\u001B[0m\n\u001B[1;32m     48\u001B[0m \u001B[0;31m# For each X, calculate VIF and save in dataframe\u001B[0m\u001B[0;34m\u001B[0m\u001B[0;34m\u001B[0m\u001B[0m\n\u001B[1;32m     49\u001B[0m \u001B[0mvif\u001B[0m \u001B[0;34m=\u001B[0m \u001B[0mpd\u001B[0m\u001B[0;34m.\u001B[0m\u001B[0mDataFrame\u001B[0m\u001B[0;34m(\u001B[0m\u001B[0;34m)\u001B[0m\u001B[0;34m\u001B[0m\u001B[0;34m\u001B[0m\u001B[0m\n\u001B[0;32m---> 50\u001B[0;31m \u001B[0mvif\u001B[0m\u001B[0;34m[\u001B[0m\u001B[0;34m\"VIF Factor\"\u001B[0m\u001B[0;34m]\u001B[0m \u001B[0;34m=\u001B[0m \u001B[0;34m[\u001B[0m\u001B[0mvariance_inflation_factor\u001B[0m\u001B[0;34m(\u001B[0m\u001B[0mdf_vars\u001B[0m\u001B[0;34m.\u001B[0m\u001B[0mvalues\u001B[0m\u001B[0;34m,\u001B[0m \u001B[0mi\u001B[0m\u001B[0;34m)\u001B[0m \u001B[0;32mfor\u001B[0m \u001B[0mi\u001B[0m \u001B[0;32min\u001B[0m \u001B[0mrange\u001B[0m\u001B[0;34m(\u001B[0m\u001B[0mdf_vars\u001B[0m\u001B[0;34m.\u001B[0m\u001B[0mshape\u001B[0m\u001B[0;34m[\u001B[0m\u001B[0;36m1\u001B[0m\u001B[0;34m]\u001B[0m\u001B[0;34m)\u001B[0m\u001B[0;34m]\u001B[0m\u001B[0;34m\u001B[0m\u001B[0;34m\u001B[0m\u001B[0m\n\u001B[0m\u001B[1;32m     51\u001B[0m \u001B[0mvif\u001B[0m\u001B[0;34m[\u001B[0m\u001B[0;34m\"features\"\u001B[0m\u001B[0;34m]\u001B[0m \u001B[0;34m=\u001B[0m \u001B[0mdf_vars\u001B[0m\u001B[0;34m.\u001B[0m\u001B[0mcolumns\u001B[0m\u001B[0;34m\u001B[0m\u001B[0;34m\u001B[0m\u001B[0m\n\u001B[1;32m     52\u001B[0m \u001B[0;34m\u001B[0m\u001B[0m\n",
      "\u001B[0;32m~/anaconda3/lib/python3.9/site-packages/statsmodels/stats/outliers_influence.py\u001B[0m in \u001B[0;36mvariance_inflation_factor\u001B[0;34m(exog, exog_idx)\u001B[0m\n\u001B[1;32m    192\u001B[0m     \u001B[0mmask\u001B[0m \u001B[0;34m=\u001B[0m \u001B[0mnp\u001B[0m\u001B[0;34m.\u001B[0m\u001B[0marange\u001B[0m\u001B[0;34m(\u001B[0m\u001B[0mk_vars\u001B[0m\u001B[0;34m)\u001B[0m \u001B[0;34m!=\u001B[0m \u001B[0mexog_idx\u001B[0m\u001B[0;34m\u001B[0m\u001B[0;34m\u001B[0m\u001B[0m\n\u001B[1;32m    193\u001B[0m     \u001B[0mx_noti\u001B[0m \u001B[0;34m=\u001B[0m \u001B[0mexog\u001B[0m\u001B[0;34m[\u001B[0m\u001B[0;34m:\u001B[0m\u001B[0;34m,\u001B[0m \u001B[0mmask\u001B[0m\u001B[0;34m]\u001B[0m\u001B[0;34m\u001B[0m\u001B[0;34m\u001B[0m\u001B[0m\n\u001B[0;32m--> 194\u001B[0;31m     \u001B[0mr_squared_i\u001B[0m \u001B[0;34m=\u001B[0m \u001B[0mOLS\u001B[0m\u001B[0;34m(\u001B[0m\u001B[0mx_i\u001B[0m\u001B[0;34m,\u001B[0m \u001B[0mx_noti\u001B[0m\u001B[0;34m)\u001B[0m\u001B[0;34m.\u001B[0m\u001B[0mfit\u001B[0m\u001B[0;34m(\u001B[0m\u001B[0;34m)\u001B[0m\u001B[0;34m.\u001B[0m\u001B[0mrsquared\u001B[0m\u001B[0;34m\u001B[0m\u001B[0;34m\u001B[0m\u001B[0m\n\u001B[0m\u001B[1;32m    195\u001B[0m     \u001B[0mvif\u001B[0m \u001B[0;34m=\u001B[0m \u001B[0;36m1.\u001B[0m \u001B[0;34m/\u001B[0m \u001B[0;34m(\u001B[0m\u001B[0;36m1.\u001B[0m \u001B[0;34m-\u001B[0m \u001B[0mr_squared_i\u001B[0m\u001B[0;34m)\u001B[0m\u001B[0;34m\u001B[0m\u001B[0;34m\u001B[0m\u001B[0m\n\u001B[1;32m    196\u001B[0m     \u001B[0;32mreturn\u001B[0m \u001B[0mvif\u001B[0m\u001B[0;34m\u001B[0m\u001B[0;34m\u001B[0m\u001B[0m\n",
      "\u001B[0;32m~/anaconda3/lib/python3.9/site-packages/statsmodels/regression/linear_model.py\u001B[0m in \u001B[0;36m__init__\u001B[0;34m(self, endog, exog, missing, hasconst, **kwargs)\u001B[0m\n\u001B[1;32m    888\u001B[0m                    \"An exception will be raised in the next version.\")\n\u001B[1;32m    889\u001B[0m             \u001B[0mwarnings\u001B[0m\u001B[0;34m.\u001B[0m\u001B[0mwarn\u001B[0m\u001B[0;34m(\u001B[0m\u001B[0mmsg\u001B[0m\u001B[0;34m,\u001B[0m \u001B[0mValueWarning\u001B[0m\u001B[0;34m)\u001B[0m\u001B[0;34m\u001B[0m\u001B[0;34m\u001B[0m\u001B[0m\n\u001B[0;32m--> 890\u001B[0;31m         super(OLS, self).__init__(endog, exog, missing=missing,\n\u001B[0m\u001B[1;32m    891\u001B[0m                                   hasconst=hasconst, **kwargs)\n\u001B[1;32m    892\u001B[0m         \u001B[0;32mif\u001B[0m \u001B[0;34m\"weights\"\u001B[0m \u001B[0;32min\u001B[0m \u001B[0mself\u001B[0m\u001B[0;34m.\u001B[0m\u001B[0m_init_keys\u001B[0m\u001B[0;34m:\u001B[0m\u001B[0;34m\u001B[0m\u001B[0;34m\u001B[0m\u001B[0m\n",
      "\u001B[0;32m~/anaconda3/lib/python3.9/site-packages/statsmodels/regression/linear_model.py\u001B[0m in \u001B[0;36m__init__\u001B[0;34m(self, endog, exog, weights, missing, hasconst, **kwargs)\u001B[0m\n\u001B[1;32m    715\u001B[0m         \u001B[0;32melse\u001B[0m\u001B[0;34m:\u001B[0m\u001B[0;34m\u001B[0m\u001B[0;34m\u001B[0m\u001B[0m\n\u001B[1;32m    716\u001B[0m             \u001B[0mweights\u001B[0m \u001B[0;34m=\u001B[0m \u001B[0mweights\u001B[0m\u001B[0;34m.\u001B[0m\u001B[0msqueeze\u001B[0m\u001B[0;34m(\u001B[0m\u001B[0;34m)\u001B[0m\u001B[0;34m\u001B[0m\u001B[0;34m\u001B[0m\u001B[0m\n\u001B[0;32m--> 717\u001B[0;31m         super(WLS, self).__init__(endog, exog, missing=missing,\n\u001B[0m\u001B[1;32m    718\u001B[0m                                   weights=weights, hasconst=hasconst, **kwargs)\n\u001B[1;32m    719\u001B[0m         \u001B[0mnobs\u001B[0m \u001B[0;34m=\u001B[0m \u001B[0mself\u001B[0m\u001B[0;34m.\u001B[0m\u001B[0mexog\u001B[0m\u001B[0;34m.\u001B[0m\u001B[0mshape\u001B[0m\u001B[0;34m[\u001B[0m\u001B[0;36m0\u001B[0m\u001B[0;34m]\u001B[0m\u001B[0;34m\u001B[0m\u001B[0;34m\u001B[0m\u001B[0m\n",
      "\u001B[0;32m~/anaconda3/lib/python3.9/site-packages/statsmodels/regression/linear_model.py\u001B[0m in \u001B[0;36m__init__\u001B[0;34m(self, endog, exog, **kwargs)\u001B[0m\n\u001B[1;32m    189\u001B[0m     \"\"\"\n\u001B[1;32m    190\u001B[0m     \u001B[0;32mdef\u001B[0m \u001B[0m__init__\u001B[0m\u001B[0;34m(\u001B[0m\u001B[0mself\u001B[0m\u001B[0;34m,\u001B[0m \u001B[0mendog\u001B[0m\u001B[0;34m,\u001B[0m \u001B[0mexog\u001B[0m\u001B[0;34m,\u001B[0m \u001B[0;34m**\u001B[0m\u001B[0mkwargs\u001B[0m\u001B[0;34m)\u001B[0m\u001B[0;34m:\u001B[0m\u001B[0;34m\u001B[0m\u001B[0;34m\u001B[0m\u001B[0m\n\u001B[0;32m--> 191\u001B[0;31m         \u001B[0msuper\u001B[0m\u001B[0;34m(\u001B[0m\u001B[0mRegressionModel\u001B[0m\u001B[0;34m,\u001B[0m \u001B[0mself\u001B[0m\u001B[0;34m)\u001B[0m\u001B[0;34m.\u001B[0m\u001B[0m__init__\u001B[0m\u001B[0;34m(\u001B[0m\u001B[0mendog\u001B[0m\u001B[0;34m,\u001B[0m \u001B[0mexog\u001B[0m\u001B[0;34m,\u001B[0m \u001B[0;34m**\u001B[0m\u001B[0mkwargs\u001B[0m\u001B[0;34m)\u001B[0m\u001B[0;34m\u001B[0m\u001B[0;34m\u001B[0m\u001B[0m\n\u001B[0m\u001B[1;32m    192\u001B[0m         \u001B[0mself\u001B[0m\u001B[0;34m.\u001B[0m\u001B[0m_data_attr\u001B[0m\u001B[0;34m.\u001B[0m\u001B[0mextend\u001B[0m\u001B[0;34m(\u001B[0m\u001B[0;34m[\u001B[0m\u001B[0;34m'pinv_wexog'\u001B[0m\u001B[0;34m,\u001B[0m \u001B[0;34m'wendog'\u001B[0m\u001B[0;34m,\u001B[0m \u001B[0;34m'wexog'\u001B[0m\u001B[0;34m,\u001B[0m \u001B[0;34m'weights'\u001B[0m\u001B[0;34m]\u001B[0m\u001B[0;34m)\u001B[0m\u001B[0;34m\u001B[0m\u001B[0;34m\u001B[0m\u001B[0m\n\u001B[1;32m    193\u001B[0m \u001B[0;34m\u001B[0m\u001B[0m\n",
      "\u001B[0;32m~/anaconda3/lib/python3.9/site-packages/statsmodels/base/model.py\u001B[0m in \u001B[0;36m__init__\u001B[0;34m(self, endog, exog, **kwargs)\u001B[0m\n\u001B[1;32m    265\u001B[0m \u001B[0;34m\u001B[0m\u001B[0m\n\u001B[1;32m    266\u001B[0m     \u001B[0;32mdef\u001B[0m \u001B[0m__init__\u001B[0m\u001B[0;34m(\u001B[0m\u001B[0mself\u001B[0m\u001B[0;34m,\u001B[0m \u001B[0mendog\u001B[0m\u001B[0;34m,\u001B[0m \u001B[0mexog\u001B[0m\u001B[0;34m=\u001B[0m\u001B[0;32mNone\u001B[0m\u001B[0;34m,\u001B[0m \u001B[0;34m**\u001B[0m\u001B[0mkwargs\u001B[0m\u001B[0;34m)\u001B[0m\u001B[0;34m:\u001B[0m\u001B[0;34m\u001B[0m\u001B[0;34m\u001B[0m\u001B[0m\n\u001B[0;32m--> 267\u001B[0;31m         \u001B[0msuper\u001B[0m\u001B[0;34m(\u001B[0m\u001B[0;34m)\u001B[0m\u001B[0;34m.\u001B[0m\u001B[0m__init__\u001B[0m\u001B[0;34m(\u001B[0m\u001B[0mendog\u001B[0m\u001B[0;34m,\u001B[0m \u001B[0mexog\u001B[0m\u001B[0;34m,\u001B[0m \u001B[0;34m**\u001B[0m\u001B[0mkwargs\u001B[0m\u001B[0;34m)\u001B[0m\u001B[0;34m\u001B[0m\u001B[0;34m\u001B[0m\u001B[0m\n\u001B[0m\u001B[1;32m    268\u001B[0m         \u001B[0mself\u001B[0m\u001B[0;34m.\u001B[0m\u001B[0minitialize\u001B[0m\u001B[0;34m(\u001B[0m\u001B[0;34m)\u001B[0m\u001B[0;34m\u001B[0m\u001B[0;34m\u001B[0m\u001B[0m\n\u001B[1;32m    269\u001B[0m \u001B[0;34m\u001B[0m\u001B[0m\n",
      "\u001B[0;32m~/anaconda3/lib/python3.9/site-packages/statsmodels/base/model.py\u001B[0m in \u001B[0;36m__init__\u001B[0;34m(self, endog, exog, **kwargs)\u001B[0m\n\u001B[1;32m     90\u001B[0m         \u001B[0mmissing\u001B[0m \u001B[0;34m=\u001B[0m \u001B[0mkwargs\u001B[0m\u001B[0;34m.\u001B[0m\u001B[0mpop\u001B[0m\u001B[0;34m(\u001B[0m\u001B[0;34m'missing'\u001B[0m\u001B[0;34m,\u001B[0m \u001B[0;34m'none'\u001B[0m\u001B[0;34m)\u001B[0m\u001B[0;34m\u001B[0m\u001B[0;34m\u001B[0m\u001B[0m\n\u001B[1;32m     91\u001B[0m         \u001B[0mhasconst\u001B[0m \u001B[0;34m=\u001B[0m \u001B[0mkwargs\u001B[0m\u001B[0;34m.\u001B[0m\u001B[0mpop\u001B[0m\u001B[0;34m(\u001B[0m\u001B[0;34m'hasconst'\u001B[0m\u001B[0;34m,\u001B[0m \u001B[0;32mNone\u001B[0m\u001B[0;34m)\u001B[0m\u001B[0;34m\u001B[0m\u001B[0;34m\u001B[0m\u001B[0m\n\u001B[0;32m---> 92\u001B[0;31m         self.data = self._handle_data(endog, exog, missing, hasconst,\n\u001B[0m\u001B[1;32m     93\u001B[0m                                       **kwargs)\n\u001B[1;32m     94\u001B[0m         \u001B[0mself\u001B[0m\u001B[0;34m.\u001B[0m\u001B[0mk_constant\u001B[0m \u001B[0;34m=\u001B[0m \u001B[0mself\u001B[0m\u001B[0;34m.\u001B[0m\u001B[0mdata\u001B[0m\u001B[0;34m.\u001B[0m\u001B[0mk_constant\u001B[0m\u001B[0;34m\u001B[0m\u001B[0;34m\u001B[0m\u001B[0m\n",
      "\u001B[0;32m~/anaconda3/lib/python3.9/site-packages/statsmodels/base/model.py\u001B[0m in \u001B[0;36m_handle_data\u001B[0;34m(self, endog, exog, missing, hasconst, **kwargs)\u001B[0m\n\u001B[1;32m    130\u001B[0m \u001B[0;34m\u001B[0m\u001B[0m\n\u001B[1;32m    131\u001B[0m     \u001B[0;32mdef\u001B[0m \u001B[0m_handle_data\u001B[0m\u001B[0;34m(\u001B[0m\u001B[0mself\u001B[0m\u001B[0;34m,\u001B[0m \u001B[0mendog\u001B[0m\u001B[0;34m,\u001B[0m \u001B[0mexog\u001B[0m\u001B[0;34m,\u001B[0m \u001B[0mmissing\u001B[0m\u001B[0;34m,\u001B[0m \u001B[0mhasconst\u001B[0m\u001B[0;34m,\u001B[0m \u001B[0;34m**\u001B[0m\u001B[0mkwargs\u001B[0m\u001B[0;34m)\u001B[0m\u001B[0;34m:\u001B[0m\u001B[0;34m\u001B[0m\u001B[0;34m\u001B[0m\u001B[0m\n\u001B[0;32m--> 132\u001B[0;31m         \u001B[0mdata\u001B[0m \u001B[0;34m=\u001B[0m \u001B[0mhandle_data\u001B[0m\u001B[0;34m(\u001B[0m\u001B[0mendog\u001B[0m\u001B[0;34m,\u001B[0m \u001B[0mexog\u001B[0m\u001B[0;34m,\u001B[0m \u001B[0mmissing\u001B[0m\u001B[0;34m,\u001B[0m \u001B[0mhasconst\u001B[0m\u001B[0;34m,\u001B[0m \u001B[0;34m**\u001B[0m\u001B[0mkwargs\u001B[0m\u001B[0;34m)\u001B[0m\u001B[0;34m\u001B[0m\u001B[0;34m\u001B[0m\u001B[0m\n\u001B[0m\u001B[1;32m    133\u001B[0m         \u001B[0;31m# kwargs arrays could have changed, easier to just attach here\u001B[0m\u001B[0;34m\u001B[0m\u001B[0;34m\u001B[0m\u001B[0m\n\u001B[1;32m    134\u001B[0m         \u001B[0;32mfor\u001B[0m \u001B[0mkey\u001B[0m \u001B[0;32min\u001B[0m \u001B[0mkwargs\u001B[0m\u001B[0;34m:\u001B[0m\u001B[0;34m\u001B[0m\u001B[0;34m\u001B[0m\u001B[0m\n",
      "\u001B[0;32m~/anaconda3/lib/python3.9/site-packages/statsmodels/base/data.py\u001B[0m in \u001B[0;36mhandle_data\u001B[0;34m(endog, exog, missing, hasconst, **kwargs)\u001B[0m\n\u001B[1;32m    671\u001B[0m \u001B[0;34m\u001B[0m\u001B[0m\n\u001B[1;32m    672\u001B[0m     \u001B[0mklass\u001B[0m \u001B[0;34m=\u001B[0m \u001B[0mhandle_data_class_factory\u001B[0m\u001B[0;34m(\u001B[0m\u001B[0mendog\u001B[0m\u001B[0;34m,\u001B[0m \u001B[0mexog\u001B[0m\u001B[0;34m)\u001B[0m\u001B[0;34m\u001B[0m\u001B[0;34m\u001B[0m\u001B[0m\n\u001B[0;32m--> 673\u001B[0;31m     return klass(endog, exog=exog, missing=missing, hasconst=hasconst,\n\u001B[0m\u001B[1;32m    674\u001B[0m                  **kwargs)\n",
      "\u001B[0;32m~/anaconda3/lib/python3.9/site-packages/statsmodels/base/data.py\u001B[0m in \u001B[0;36m__init__\u001B[0;34m(self, endog, exog, missing, hasconst, **kwargs)\u001B[0m\n\u001B[1;32m     84\u001B[0m         \u001B[0mself\u001B[0m\u001B[0;34m.\u001B[0m\u001B[0mconst_idx\u001B[0m \u001B[0;34m=\u001B[0m \u001B[0;32mNone\u001B[0m\u001B[0;34m\u001B[0m\u001B[0;34m\u001B[0m\u001B[0m\n\u001B[1;32m     85\u001B[0m         \u001B[0mself\u001B[0m\u001B[0;34m.\u001B[0m\u001B[0mk_constant\u001B[0m \u001B[0;34m=\u001B[0m \u001B[0;36m0\u001B[0m\u001B[0;34m\u001B[0m\u001B[0;34m\u001B[0m\u001B[0m\n\u001B[0;32m---> 86\u001B[0;31m         \u001B[0mself\u001B[0m\u001B[0;34m.\u001B[0m\u001B[0m_handle_constant\u001B[0m\u001B[0;34m(\u001B[0m\u001B[0mhasconst\u001B[0m\u001B[0;34m)\u001B[0m\u001B[0;34m\u001B[0m\u001B[0;34m\u001B[0m\u001B[0m\n\u001B[0m\u001B[1;32m     87\u001B[0m         \u001B[0mself\u001B[0m\u001B[0;34m.\u001B[0m\u001B[0m_check_integrity\u001B[0m\u001B[0;34m(\u001B[0m\u001B[0;34m)\u001B[0m\u001B[0;34m\u001B[0m\u001B[0;34m\u001B[0m\u001B[0m\n\u001B[1;32m     88\u001B[0m         \u001B[0mself\u001B[0m\u001B[0;34m.\u001B[0m\u001B[0m_cache\u001B[0m \u001B[0;34m=\u001B[0m \u001B[0;34m{\u001B[0m\u001B[0;34m}\u001B[0m\u001B[0;34m\u001B[0m\u001B[0;34m\u001B[0m\u001B[0m\n",
      "\u001B[0;32m~/anaconda3/lib/python3.9/site-packages/statsmodels/base/data.py\u001B[0m in \u001B[0;36m_handle_constant\u001B[0;34m(self, hasconst)\u001B[0m\n\u001B[1;32m    174\u001B[0m                             (np.ones(self.exog.shape[0]), self.exog))\n\u001B[1;32m    175\u001B[0m                 \u001B[0mrank_augm\u001B[0m \u001B[0;34m=\u001B[0m \u001B[0mnp\u001B[0m\u001B[0;34m.\u001B[0m\u001B[0mlinalg\u001B[0m\u001B[0;34m.\u001B[0m\u001B[0mmatrix_rank\u001B[0m\u001B[0;34m(\u001B[0m\u001B[0maugmented_exog\u001B[0m\u001B[0;34m)\u001B[0m\u001B[0;34m\u001B[0m\u001B[0;34m\u001B[0m\u001B[0m\n\u001B[0;32m--> 176\u001B[0;31m                 \u001B[0mrank_orig\u001B[0m \u001B[0;34m=\u001B[0m \u001B[0mnp\u001B[0m\u001B[0;34m.\u001B[0m\u001B[0mlinalg\u001B[0m\u001B[0;34m.\u001B[0m\u001B[0mmatrix_rank\u001B[0m\u001B[0;34m(\u001B[0m\u001B[0mself\u001B[0m\u001B[0;34m.\u001B[0m\u001B[0mexog\u001B[0m\u001B[0;34m)\u001B[0m\u001B[0;34m\u001B[0m\u001B[0;34m\u001B[0m\u001B[0m\n\u001B[0m\u001B[1;32m    177\u001B[0m                 \u001B[0mself\u001B[0m\u001B[0;34m.\u001B[0m\u001B[0mk_constant\u001B[0m \u001B[0;34m=\u001B[0m \u001B[0mint\u001B[0m\u001B[0;34m(\u001B[0m\u001B[0mrank_orig\u001B[0m \u001B[0;34m==\u001B[0m \u001B[0mrank_augm\u001B[0m\u001B[0;34m)\u001B[0m\u001B[0;34m\u001B[0m\u001B[0;34m\u001B[0m\u001B[0m\n\u001B[1;32m    178\u001B[0m                 \u001B[0mself\u001B[0m\u001B[0;34m.\u001B[0m\u001B[0mconst_idx\u001B[0m \u001B[0;34m=\u001B[0m \u001B[0;32mNone\u001B[0m\u001B[0;34m\u001B[0m\u001B[0;34m\u001B[0m\u001B[0m\n",
      "\u001B[0;32m~/anaconda3/lib/python3.9/site-packages/numpy/core/overrides.py\u001B[0m in \u001B[0;36mmatrix_rank\u001B[0;34m(*args, **kwargs)\u001B[0m\n",
      "\u001B[0;32m~/anaconda3/lib/python3.9/site-packages/numpy/linalg/linalg.py\u001B[0m in \u001B[0;36mmatrix_rank\u001B[0;34m(A, tol, hermitian)\u001B[0m\n\u001B[1;32m   1898\u001B[0m     \u001B[0mS\u001B[0m \u001B[0;34m=\u001B[0m \u001B[0msvd\u001B[0m\u001B[0;34m(\u001B[0m\u001B[0mA\u001B[0m\u001B[0;34m,\u001B[0m \u001B[0mcompute_uv\u001B[0m\u001B[0;34m=\u001B[0m\u001B[0;32mFalse\u001B[0m\u001B[0;34m,\u001B[0m \u001B[0mhermitian\u001B[0m\u001B[0;34m=\u001B[0m\u001B[0mhermitian\u001B[0m\u001B[0;34m)\u001B[0m\u001B[0;34m\u001B[0m\u001B[0;34m\u001B[0m\u001B[0m\n\u001B[1;32m   1899\u001B[0m     \u001B[0;32mif\u001B[0m \u001B[0mtol\u001B[0m \u001B[0;32mis\u001B[0m \u001B[0;32mNone\u001B[0m\u001B[0;34m:\u001B[0m\u001B[0;34m\u001B[0m\u001B[0;34m\u001B[0m\u001B[0m\n\u001B[0;32m-> 1900\u001B[0;31m         \u001B[0mtol\u001B[0m \u001B[0;34m=\u001B[0m \u001B[0mS\u001B[0m\u001B[0;34m.\u001B[0m\u001B[0mmax\u001B[0m\u001B[0;34m(\u001B[0m\u001B[0maxis\u001B[0m\u001B[0;34m=\u001B[0m\u001B[0;34m-\u001B[0m\u001B[0;36m1\u001B[0m\u001B[0;34m,\u001B[0m \u001B[0mkeepdims\u001B[0m\u001B[0;34m=\u001B[0m\u001B[0;32mTrue\u001B[0m\u001B[0;34m)\u001B[0m \u001B[0;34m*\u001B[0m \u001B[0mmax\u001B[0m\u001B[0;34m(\u001B[0m\u001B[0mA\u001B[0m\u001B[0;34m.\u001B[0m\u001B[0mshape\u001B[0m\u001B[0;34m[\u001B[0m\u001B[0;34m-\u001B[0m\u001B[0;36m2\u001B[0m\u001B[0;34m:\u001B[0m\u001B[0;34m]\u001B[0m\u001B[0;34m)\u001B[0m \u001B[0;34m*\u001B[0m \u001B[0mfinfo\u001B[0m\u001B[0;34m(\u001B[0m\u001B[0mS\u001B[0m\u001B[0;34m.\u001B[0m\u001B[0mdtype\u001B[0m\u001B[0;34m)\u001B[0m\u001B[0;34m.\u001B[0m\u001B[0meps\u001B[0m\u001B[0;34m\u001B[0m\u001B[0;34m\u001B[0m\u001B[0m\n\u001B[0m\u001B[1;32m   1901\u001B[0m     \u001B[0;32melse\u001B[0m\u001B[0;34m:\u001B[0m\u001B[0;34m\u001B[0m\u001B[0;34m\u001B[0m\u001B[0m\n\u001B[1;32m   1902\u001B[0m         \u001B[0mtol\u001B[0m \u001B[0;34m=\u001B[0m \u001B[0masarray\u001B[0m\u001B[0;34m(\u001B[0m\u001B[0mtol\u001B[0m\u001B[0;34m)\u001B[0m\u001B[0;34m[\u001B[0m\u001B[0;34m...\u001B[0m\u001B[0;34m,\u001B[0m \u001B[0mnewaxis\u001B[0m\u001B[0;34m]\u001B[0m\u001B[0;34m\u001B[0m\u001B[0;34m\u001B[0m\u001B[0m\n",
      "\u001B[0;32m~/anaconda3/lib/python3.9/site-packages/numpy/core/_methods.py\u001B[0m in \u001B[0;36m_amax\u001B[0;34m(a, axis, out, keepdims, initial, where)\u001B[0m\n\u001B[1;32m     38\u001B[0m def _amax(a, axis=None, out=None, keepdims=False,\n\u001B[1;32m     39\u001B[0m           initial=_NoValue, where=True):\n\u001B[0;32m---> 40\u001B[0;31m     \u001B[0;32mreturn\u001B[0m \u001B[0mumr_maximum\u001B[0m\u001B[0;34m(\u001B[0m\u001B[0ma\u001B[0m\u001B[0;34m,\u001B[0m \u001B[0maxis\u001B[0m\u001B[0;34m,\u001B[0m \u001B[0;32mNone\u001B[0m\u001B[0;34m,\u001B[0m \u001B[0mout\u001B[0m\u001B[0;34m,\u001B[0m \u001B[0mkeepdims\u001B[0m\u001B[0;34m,\u001B[0m \u001B[0minitial\u001B[0m\u001B[0;34m,\u001B[0m \u001B[0mwhere\u001B[0m\u001B[0;34m)\u001B[0m\u001B[0;34m\u001B[0m\u001B[0;34m\u001B[0m\u001B[0m\n\u001B[0m\u001B[1;32m     41\u001B[0m \u001B[0;34m\u001B[0m\u001B[0m\n\u001B[1;32m     42\u001B[0m def _amin(a, axis=None, out=None, keepdims=False,\n",
      "\u001B[0;31mValueError\u001B[0m: zero-size array to reduction operation maximum which has no identity"
     ]
    }
   ],
   "source": [
    "import pandas as pd\n",
    "import numpy as np\n",
    "from linearmodels.iv import IV2SLS\n",
    "from statsmodels.stats.outliers_influence import variance_inflation_factor\n",
    "\n",
    "# loading the datasets\n",
    "df1 = pd.read_csv('data/U3.ASC', sep=\"\\s+\", names=['time', 'u'])\n",
    "df2 = pd.read_csv('data/U1.ASC', sep=\"\\s+\", names=['time', 'y', 'u'])\n",
    "\n",
    "# z-normalize the signals\n",
    "def z(x):\n",
    "    x = np.asarray(x)\n",
    "    return (x-np.average(x)) / np.std(x)\n",
    "\n",
    "# cut\n",
    "df1 = df1.iloc[100:1500]\n",
    "df2 = df2.iloc[301:930]\n",
    "\n",
    "# z-normalise\n",
    "df1['u'] = z(df1['u'])\n",
    "#df1['y'] = z(df1['y'])\n",
    "df2['u'] = z(df2['u'])\n",
    "df2['y'] = z(df2['y'])\n",
    "\n",
    "\n",
    "\n",
    "# defining the lags\n",
    "y_order = 1\n",
    "u_order = 1\n",
    "\n",
    "# adding lags to the dataset\n",
    "for i in range(1, y_order+1):\n",
    "    df2['y_lag'+str(i)] = df2['y'].shift(i)\n",
    "for i in range(1, u_order+1):\n",
    "    df2['u_lag'+str(i)] = df2['u'].shift(i)\n",
    "\n",
    "# dropping NA values (created due to shifting)\n",
    "df2 = df2.dropna()\n",
    "\n",
    "# setting up the IV2SLS model\n",
    "exog_vars = ['u_lag'+str(i) for i in range(1, u_order+1)]\n",
    "endog_vars = ['y_lag'+str(i) for i in range(1, y_order+1)]\n",
    "instrument_vars = ['u'] + exog_vars\n",
    "\n",
    "# create a DataFrame for the variables you want to check\n",
    "df_vars = df2[instrument_vars]\n",
    "\n",
    "# For each X, calculate VIF and save in dataframe\n",
    "vif = pd.DataFrame()\n",
    "vif[\"VIF Factor\"] = [variance_inflation_factor(df_vars.values, i) for i in range(df_vars.shape[1])]\n",
    "vif[\"features\"] = df_vars.columns\n",
    "\n",
    "print(vif)\n",
    "\n",
    "model = IV2SLS(dependent=df2['y'],\n",
    "               exog=df2[exog_vars],\n",
    "               endog=df2[endog_vars],\n",
    "               instruments=df2[instrument_vars])\n",
    "\n",
    "# fitting the model\n",
    "results = model.fit(cov_type='unadjusted')\n",
    "\n",
    "# print the result summary\n",
    "print(results)\n",
    "\n",
    "# predicting y for df1\n",
    "for i in range(1, u_order+1):\n",
    "    df1['u_lag'+str(i)] = df1['u'].shift(i)\n",
    "df1 = df1.dropna()\n",
    "\n",
    "predictions = results.predict(exog=df1[exog_vars], endog=df1[endog_vars])"
   ]
  }
 ],
 "metadata": {
  "kernelspec": {
   "display_name": "Python 3",
   "language": "python",
   "name": "python3"
  },
  "language_info": {
   "codemirror_mode": {
    "name": "ipython",
    "version": 2
   },
   "file_extension": ".py",
   "mimetype": "text/x-python",
   "name": "python",
   "nbconvert_exporter": "python",
   "pygments_lexer": "ipython2",
   "version": "2.7.6"
  }
 },
 "nbformat": 4,
 "nbformat_minor": 0
}
