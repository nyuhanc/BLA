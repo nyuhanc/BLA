{
 "cells": [
  {
   "cell_type": "code",
   "execution_count": 142,
   "outputs": [
    {
     "name": "stderr",
     "output_type": "stream",
     "text": [
      "/tmp/ipykernel_336/574422590.py:39: FutureWarning: The series.append method is deprecated and will be removed from pandas in a future version. Use pandas.concat instead.\n",
      "  joint_avg_u = np.average(df1['u'].append(df2['u']))\n",
      "/tmp/ipykernel_336/574422590.py:40: FutureWarning: The series.append method is deprecated and will be removed from pandas in a future version. Use pandas.concat instead.\n",
      "  joint_avg_y = np.average(df1['y'].append(df2['y']))\n",
      "/tmp/ipykernel_336/574422590.py:41: FutureWarning: The series.append method is deprecated and will be removed from pandas in a future version. Use pandas.concat instead.\n",
      "  joint_std_u = np.std(df1['u'].append(df2['u']))\n",
      "/tmp/ipykernel_336/574422590.py:42: FutureWarning: The series.append method is deprecated and will be removed from pandas in a future version. Use pandas.concat instead.\n",
      "  joint_std_y = np.std(df1['y'].append(df2['y']))\n"
     ]
    }
   ],
   "source": [
    "import copy\n",
    "from linearmodels.iv import IV2SLS\n",
    "from statsmodels.stats.outliers_influence import variance_inflation_factor\n",
    "from matplotlib import pyplot as plt\n",
    "import numpy as np\n",
    "import pandas as pd\n",
    "import scipy as sc\n",
    "import scipy.signal\n",
    "import scipy.stats\n",
    "#import sysidentpy as sipy\n",
    "from scipy.fft import fft, ifft, fftshift\n",
    "from statsmodels.tsa.stattools import adfuller\n",
    "import statsmodels.api as sm\n",
    "from sklearn.metrics import mutual_info_score\n",
    "\n",
    "from sysidentpy.metrics import mean_squared_error\n",
    "from sysidentpy.model_structure_selection import FROLS\n",
    "from sysidentpy.basis_function._basis_function import Polynomial\n",
    "from sysidentpy.utils.display_results import results\n",
    "from sysidentpy.utils.plotting import plot_residues_correlation, plot_results\n",
    "from sysidentpy.residues.residues_correlation import compute_residues_autocorrelation, compute_cross_correlation\n",
    "from IPython.display import display, HTML\n",
    "\n",
    "plt.rc('font', size=30)          # controls default text sizes\n",
    "plt.rc('axes', titlesize=25)     # fontsize of the axes title\n",
    "plt.rc('axes', labelsize=25)     # fontsize of the x and y labels\n",
    "plt.rc('xtick', labelsize=25)    # fontsize of the tick labels\n",
    "plt.rc('ytick', labelsize=25)    # fontsize of the tick labels\n",
    "plt.rc('legend', fontsize=25)    # legend fontsize\n",
    "\n",
    "df1 = pd.read_csv('data/U3.ASC', sep=\"\\s+\", names=['time', 'y', 'u'])\n",
    "df2 = pd.read_csv('data/U1.ASC', sep=\"\\s+\", names=['time', 'y', 'u'])\n",
    "\n",
    "# cut\n",
    "df1 = df1.iloc[301:1500]\n",
    "df2 = df2.iloc[301:930]\n",
    "\n",
    "# z-normalise\n",
    "joint_avg_u = np.average(df1['u'].append(df2['u']))\n",
    "joint_avg_y = np.average(df1['y'].append(df2['y']))\n",
    "joint_std_u = np.std(df1['u'].append(df2['u']))\n",
    "joint_std_y = np.std(df1['y'].append(df2['y']))\n",
    "df1['u'] = (df1['u']-joint_avg_u)/joint_std_u\n",
    "df1['y'] = (df1['y']-joint_avg_y)/joint_std_y\n",
    "df2['u'] = (df2['u']-joint_avg_u)/joint_std_u\n",
    "df2['y'] = (df2['y']-joint_avg_y)/joint_std_y\n",
    "\n",
    "u_train = np.asarray(df2['u']).reshape(-1, 1)\n",
    "u_valid = np.asarray(df1['u']).reshape(-1, 1)\n",
    "y_train = np.asarray(df2['y']).reshape(-1,1)\n",
    "y_valid = np.asarray(df1['y']).reshape(-1,1)"
   ],
   "metadata": {
    "collapsed": false
   }
  },
  {
   "cell_type": "markdown",
   "source": [
    "# The four-step IV"
   ],
   "metadata": {
    "collapsed": false
   }
  },
  {
   "cell_type": "markdown",
   "source": [
    "# Step 1: estimate the regressors via LS"
   ],
   "metadata": {
    "collapsed": false
   }
  },
  {
   "cell_type": "code",
   "execution_count": 143,
   "outputs": [
    {
     "name": "stderr",
     "output_type": "stream",
     "text": [
      "/home/kreljo/anaconda3/lib/python3.9/site-packages/sysidentpy/utils/deprecation.py:37: FutureWarning: Passing a string to define the estimator will rise an error in v0.4.0. \n",
      " You'll have to use FROLS(estimator=LeastSquares()) instead. \n",
      " The only change is that you'll have to define the estimator first instead of passing a string like 'least_squares'. \n",
      " This change will make easier to implement new estimators and it'll improve code readability.\n",
      "  warnings.warn(message, FutureWarning)\n"
     ]
    },
    {
     "data": {
      "text/plain": "<sysidentpy.model_structure_selection.forward_regression_orthogonal_least_squares.FROLS at 0x7f367d6fa430>"
     },
     "execution_count": 143,
     "metadata": {},
     "output_type": "execute_result"
    }
   ],
   "source": [
    "ylag = 20\n",
    "ulag = 20\n",
    "lag = max(ulag,ylag)\n",
    "\n",
    "model_1 = FROLS(\n",
    "    ylag=ylag,\n",
    "    xlag=ulag,\n",
    "    n_terms=ylag+ulag,\n",
    "    estimator='least_squares',\n",
    "    extended_least_squares=False,\n",
    "    basis_function=Polynomial(degree=1) # linear\n",
    ")\n",
    "model_1.fit(X=u_train, y=y_train)"
   ],
   "metadata": {
    "collapsed": false
   }
  },
  {
   "cell_type": "markdown",
   "source": [
    "## Step 2: generate instruments with the ARX model, IV estimate coefficients theta"
   ],
   "metadata": {
    "collapsed": false
   }
  },
  {
   "cell_type": "markdown",
   "source": [
    "### -- Is it a problem that I shorten my PRBS train data for further calcualtions? --"
   ],
   "metadata": {
    "collapsed": false
   }
  },
  {
   "cell_type": "markdown",
   "source": [
    "\n",
    "\n",
    "\n",
    "\n",
    "\n",
    "\n",
    "\n",
    "\n",
    "\n",
    "\n",
    "\n",
    "\n",
    "\n",
    "\n",
    "\n",
    "\n",
    "\n",
    "\n",
    "\n",
    "\n",
    "\n",
    "\n"
   ],
   "metadata": {
    "collapsed": false
   }
  },
  {
   "cell_type": "code",
   "execution_count": 144,
   "outputs": [
    {
     "data": {
      "text/plain": "            u         y         x    y_lag1    y_lag2    y_lag3    y_lag4  \\\n20  -1.006586  0.612893  0.612072  0.803179  0.949063  1.044206  1.063234   \n21  -1.006586  0.384552  0.343947  0.612893  0.803179  0.949063  1.044206   \n22  -1.006586  0.118154  0.079395  0.384552  0.612893  0.803179  0.949063   \n23  -1.006586 -0.122873 -0.181138  0.118154  0.384552  0.612893  0.803179   \n24  -1.006586 -0.351214 -0.418214 -0.122873  0.118154  0.384552  0.612893   \n..        ...       ...       ...       ...       ...       ...       ...   \n604 -1.006586  0.828550  0.912359  0.974435  1.037863  1.056891  1.037863   \n605 -1.006586  0.638266  0.699958  0.828550  0.974435  1.037863  1.056891   \n606 -1.006586  0.397238  0.436752  0.638266  0.828550  0.974435  1.037863   \n607 -1.006586  0.143525  0.173323  0.397238  0.638266  0.828550  0.974435   \n608 -1.006586 -0.103845 -0.087705  0.143525  0.397238  0.638266  0.828550   \n\n       y_lag5    y_lag6    y_lag7  ...   x_lag11   x_lag12   x_lag13  \\\n20   1.069577  1.075920  1.075920  ...  1.186275  1.189650  1.188969   \n21   1.063234  1.069577  1.075920  ...  1.185783  1.186275  1.189650   \n22   1.044206  1.063234  1.069577  ...  1.179467  1.185783  1.186275   \n23   0.949063  1.044206  1.063234  ...  1.179852  1.179467  1.185783   \n24   0.803179  0.949063  1.044206  ...  1.172074  1.179852  1.179467   \n..        ...       ...       ...  ...       ...       ...       ...   \n604  0.993463  0.936378  0.872950  ...  0.449426  0.324012  0.217496   \n605  1.037863  0.993463  0.936378  ...  0.581131  0.449426  0.324012   \n606  1.056891  1.037863  0.993463  ...  0.702330  0.581131  0.449426   \n607  1.037863  1.056891  1.037863  ...  0.811428  0.702330  0.581131   \n608  0.974435  1.037863  1.056891  ...  0.913646  0.811428  0.702330   \n\n      x_lag14   x_lag15   x_lag16   x_lag17   x_lag18   x_lag19   x_lag20  \n20   1.185868  1.188088  1.181587  1.182688  1.174243  1.171227  1.169091  \n21   1.188969  1.185868  1.188088  1.181587  1.182688  1.174243  1.171227  \n22   1.189650  1.188969  1.185868  1.188088  1.181587  1.182688  1.174243  \n23   1.186275  1.189650  1.188969  1.185868  1.188088  1.181587  1.182688  \n24   1.185783  1.186275  1.189650  1.188969  1.185868  1.188088  1.181587  \n..        ...       ...       ...       ...       ...       ...       ...  \n604  0.129466  0.106042  0.154239  0.278316  0.468102  0.663840  0.801576  \n605  0.217496  0.129466  0.106042  0.154239  0.278316  0.468102  0.663840  \n606  0.324012  0.217496  0.129466  0.106042  0.154239  0.278316  0.468102  \n607  0.449426  0.324012  0.217496  0.129466  0.106042  0.154239  0.278316  \n608  0.581131  0.449426  0.324012  0.217496  0.129466  0.106042  0.154239  \n\n[589 rows x 63 columns]",
      "text/html": "<div>\n<style scoped>\n    .dataframe tbody tr th:only-of-type {\n        vertical-align: middle;\n    }\n\n    .dataframe tbody tr th {\n        vertical-align: top;\n    }\n\n    .dataframe thead th {\n        text-align: right;\n    }\n</style>\n<table border=\"1\" class=\"dataframe\">\n  <thead>\n    <tr style=\"text-align: right;\">\n      <th></th>\n      <th>u</th>\n      <th>y</th>\n      <th>x</th>\n      <th>y_lag1</th>\n      <th>y_lag2</th>\n      <th>y_lag3</th>\n      <th>y_lag4</th>\n      <th>y_lag5</th>\n      <th>y_lag6</th>\n      <th>y_lag7</th>\n      <th>...</th>\n      <th>x_lag11</th>\n      <th>x_lag12</th>\n      <th>x_lag13</th>\n      <th>x_lag14</th>\n      <th>x_lag15</th>\n      <th>x_lag16</th>\n      <th>x_lag17</th>\n      <th>x_lag18</th>\n      <th>x_lag19</th>\n      <th>x_lag20</th>\n    </tr>\n  </thead>\n  <tbody>\n    <tr>\n      <th>20</th>\n      <td>-1.006586</td>\n      <td>0.612893</td>\n      <td>0.612072</td>\n      <td>0.803179</td>\n      <td>0.949063</td>\n      <td>1.044206</td>\n      <td>1.063234</td>\n      <td>1.069577</td>\n      <td>1.075920</td>\n      <td>1.075920</td>\n      <td>...</td>\n      <td>1.186275</td>\n      <td>1.189650</td>\n      <td>1.188969</td>\n      <td>1.185868</td>\n      <td>1.188088</td>\n      <td>1.181587</td>\n      <td>1.182688</td>\n      <td>1.174243</td>\n      <td>1.171227</td>\n      <td>1.169091</td>\n    </tr>\n    <tr>\n      <th>21</th>\n      <td>-1.006586</td>\n      <td>0.384552</td>\n      <td>0.343947</td>\n      <td>0.612893</td>\n      <td>0.803179</td>\n      <td>0.949063</td>\n      <td>1.044206</td>\n      <td>1.063234</td>\n      <td>1.069577</td>\n      <td>1.075920</td>\n      <td>...</td>\n      <td>1.185783</td>\n      <td>1.186275</td>\n      <td>1.189650</td>\n      <td>1.188969</td>\n      <td>1.185868</td>\n      <td>1.188088</td>\n      <td>1.181587</td>\n      <td>1.182688</td>\n      <td>1.174243</td>\n      <td>1.171227</td>\n    </tr>\n    <tr>\n      <th>22</th>\n      <td>-1.006586</td>\n      <td>0.118154</td>\n      <td>0.079395</td>\n      <td>0.384552</td>\n      <td>0.612893</td>\n      <td>0.803179</td>\n      <td>0.949063</td>\n      <td>1.044206</td>\n      <td>1.063234</td>\n      <td>1.069577</td>\n      <td>...</td>\n      <td>1.179467</td>\n      <td>1.185783</td>\n      <td>1.186275</td>\n      <td>1.189650</td>\n      <td>1.188969</td>\n      <td>1.185868</td>\n      <td>1.188088</td>\n      <td>1.181587</td>\n      <td>1.182688</td>\n      <td>1.174243</td>\n    </tr>\n    <tr>\n      <th>23</th>\n      <td>-1.006586</td>\n      <td>-0.122873</td>\n      <td>-0.181138</td>\n      <td>0.118154</td>\n      <td>0.384552</td>\n      <td>0.612893</td>\n      <td>0.803179</td>\n      <td>0.949063</td>\n      <td>1.044206</td>\n      <td>1.063234</td>\n      <td>...</td>\n      <td>1.179852</td>\n      <td>1.179467</td>\n      <td>1.185783</td>\n      <td>1.186275</td>\n      <td>1.189650</td>\n      <td>1.188969</td>\n      <td>1.185868</td>\n      <td>1.188088</td>\n      <td>1.181587</td>\n      <td>1.182688</td>\n    </tr>\n    <tr>\n      <th>24</th>\n      <td>-1.006586</td>\n      <td>-0.351214</td>\n      <td>-0.418214</td>\n      <td>-0.122873</td>\n      <td>0.118154</td>\n      <td>0.384552</td>\n      <td>0.612893</td>\n      <td>0.803179</td>\n      <td>0.949063</td>\n      <td>1.044206</td>\n      <td>...</td>\n      <td>1.172074</td>\n      <td>1.179852</td>\n      <td>1.179467</td>\n      <td>1.185783</td>\n      <td>1.186275</td>\n      <td>1.189650</td>\n      <td>1.188969</td>\n      <td>1.185868</td>\n      <td>1.188088</td>\n      <td>1.181587</td>\n    </tr>\n    <tr>\n      <th>...</th>\n      <td>...</td>\n      <td>...</td>\n      <td>...</td>\n      <td>...</td>\n      <td>...</td>\n      <td>...</td>\n      <td>...</td>\n      <td>...</td>\n      <td>...</td>\n      <td>...</td>\n      <td>...</td>\n      <td>...</td>\n      <td>...</td>\n      <td>...</td>\n      <td>...</td>\n      <td>...</td>\n      <td>...</td>\n      <td>...</td>\n      <td>...</td>\n      <td>...</td>\n      <td>...</td>\n    </tr>\n    <tr>\n      <th>604</th>\n      <td>-1.006586</td>\n      <td>0.828550</td>\n      <td>0.912359</td>\n      <td>0.974435</td>\n      <td>1.037863</td>\n      <td>1.056891</td>\n      <td>1.037863</td>\n      <td>0.993463</td>\n      <td>0.936378</td>\n      <td>0.872950</td>\n      <td>...</td>\n      <td>0.449426</td>\n      <td>0.324012</td>\n      <td>0.217496</td>\n      <td>0.129466</td>\n      <td>0.106042</td>\n      <td>0.154239</td>\n      <td>0.278316</td>\n      <td>0.468102</td>\n      <td>0.663840</td>\n      <td>0.801576</td>\n    </tr>\n    <tr>\n      <th>605</th>\n      <td>-1.006586</td>\n      <td>0.638266</td>\n      <td>0.699958</td>\n      <td>0.828550</td>\n      <td>0.974435</td>\n      <td>1.037863</td>\n      <td>1.056891</td>\n      <td>1.037863</td>\n      <td>0.993463</td>\n      <td>0.936378</td>\n      <td>...</td>\n      <td>0.581131</td>\n      <td>0.449426</td>\n      <td>0.324012</td>\n      <td>0.217496</td>\n      <td>0.129466</td>\n      <td>0.106042</td>\n      <td>0.154239</td>\n      <td>0.278316</td>\n      <td>0.468102</td>\n      <td>0.663840</td>\n    </tr>\n    <tr>\n      <th>606</th>\n      <td>-1.006586</td>\n      <td>0.397238</td>\n      <td>0.436752</td>\n      <td>0.638266</td>\n      <td>0.828550</td>\n      <td>0.974435</td>\n      <td>1.037863</td>\n      <td>1.056891</td>\n      <td>1.037863</td>\n      <td>0.993463</td>\n      <td>...</td>\n      <td>0.702330</td>\n      <td>0.581131</td>\n      <td>0.449426</td>\n      <td>0.324012</td>\n      <td>0.217496</td>\n      <td>0.129466</td>\n      <td>0.106042</td>\n      <td>0.154239</td>\n      <td>0.278316</td>\n      <td>0.468102</td>\n    </tr>\n    <tr>\n      <th>607</th>\n      <td>-1.006586</td>\n      <td>0.143525</td>\n      <td>0.173323</td>\n      <td>0.397238</td>\n      <td>0.638266</td>\n      <td>0.828550</td>\n      <td>0.974435</td>\n      <td>1.037863</td>\n      <td>1.056891</td>\n      <td>1.037863</td>\n      <td>...</td>\n      <td>0.811428</td>\n      <td>0.702330</td>\n      <td>0.581131</td>\n      <td>0.449426</td>\n      <td>0.324012</td>\n      <td>0.217496</td>\n      <td>0.129466</td>\n      <td>0.106042</td>\n      <td>0.154239</td>\n      <td>0.278316</td>\n    </tr>\n    <tr>\n      <th>608</th>\n      <td>-1.006586</td>\n      <td>-0.103845</td>\n      <td>-0.087705</td>\n      <td>0.143525</td>\n      <td>0.397238</td>\n      <td>0.638266</td>\n      <td>0.828550</td>\n      <td>0.974435</td>\n      <td>1.037863</td>\n      <td>1.056891</td>\n      <td>...</td>\n      <td>0.913646</td>\n      <td>0.811428</td>\n      <td>0.702330</td>\n      <td>0.581131</td>\n      <td>0.449426</td>\n      <td>0.324012</td>\n      <td>0.217496</td>\n      <td>0.129466</td>\n      <td>0.106042</td>\n      <td>0.154239</td>\n    </tr>\n  </tbody>\n</table>\n<p>589 rows × 63 columns</p>\n</div>"
     },
     "metadata": {},
     "output_type": "display_data"
    },
    {
     "name": "stdout",
     "output_type": "stream",
     "text": [
      "u_lag1     0.007251\n",
      "u_lag2     0.005979\n",
      "u_lag3     0.022949\n",
      "u_lag4     0.035372\n",
      "u_lag5     0.022156\n",
      "u_lag6     0.013260\n",
      "u_lag7    -0.008583\n",
      "u_lag8    -0.016962\n",
      "u_lag9    -0.047321\n",
      "u_lag10   -0.052832\n",
      "u_lag11   -0.039152\n",
      "u_lag12   -0.012220\n",
      "u_lag13   -0.015567\n",
      "u_lag14    0.037963\n",
      "u_lag15    0.065006\n",
      "u_lag16    0.016954\n",
      "u_lag17   -0.009452\n",
      "u_lag18   -0.024832\n",
      "u_lag19   -0.011484\n",
      "u_lag20    0.013093\n",
      "y_lag1     1.474300\n",
      "y_lag2    -0.768729\n",
      "y_lag3     0.151201\n",
      "y_lag4     0.137381\n",
      "y_lag5     0.614032\n",
      "y_lag6     0.016489\n",
      "y_lag7    -0.387649\n",
      "y_lag8    -0.803696\n",
      "y_lag9     0.687497\n",
      "y_lag10    0.740899\n",
      "y_lag11   -2.514160\n",
      "y_lag12    0.521143\n",
      "y_lag13    2.229915\n",
      "y_lag14    0.197833\n",
      "y_lag15   -1.451819\n",
      "y_lag16   -0.765871\n",
      "y_lag17    0.813521\n",
      "y_lag18    0.656829\n",
      "y_lag19   -0.742640\n",
      "y_lag20    0.192090\n",
      "Name: parameter, dtype: float64\n"
     ]
    }
   ],
   "source": [
    "df3 = pd.DataFrame({\n",
    "    'u' : u_train[ulag:,0],\n",
    "    'y' : y_train[ylag:,0],\n",
    "    'x' : model_1._n_step_ahead_prediction(X=u_train, y=y_train[:lag], steps_ahead=len(y_train) - lag)[:, 0]\n",
    "})\n",
    "\n",
    "# chose the xlag equal to ylag, so that the zeta * fi.T is a square matrix\n",
    "xlag = ylag\n",
    "\n",
    "# adding lags to the dataset\n",
    "for i in range(1, ylag+1):\n",
    "    df3['y_lag'+str(i)] = df3['y'].shift(i)\n",
    "for i in range(1, ulag+1):\n",
    "    df3['u_lag'+str(i)] = df3['u'].shift(i)\n",
    "for i in range(1, xlag+1):\n",
    "    df3['x_lag'+str(i)] = df3['x'].shift(i)\n",
    "\n",
    "# create a list of labels\n",
    "lagged_u = ['u_lag'+str(i) for i in range(1, ulag+1)]\n",
    "lagged_y = ['y_lag'+str(i) for i in range(1, ylag+1)]\n",
    "lagged_x = ['x_lag'+str(i) for i in range(1, xlag+1)]\n",
    "\n",
    "# dropping NA values (created due to shifting)\n",
    "df3 = df3.dropna()\n",
    "\n",
    "display(df3)\n",
    "\n",
    "# --- calculate theta by hand ----\n",
    "\n",
    "# phi_df = df3[lagged_y+lagged_u]\n",
    "# phi = np.asarray(phi_df).reshape(-1,ylag+ulag)\n",
    "#\n",
    "# zeta_df = df3[lagged_x+lagged_u]\n",
    "# zeta = np.asarray(zeta_df).reshape(-1,xlag+ulag)\n",
    "#\n",
    "# y3_df = df3[lagged_y]\n",
    "# y3 = np.asarray(df3['y']).reshape(-1)\n",
    "#\n",
    "# theta3 = np.linalg.inv(zeta.T @ phi) @ phi.T @ y3\n",
    "#\n",
    "# print(pd.DataFrame(theta3))\n",
    "\n",
    "# --------------------------------\n",
    "\n",
    "model_iv_2 = IV2SLS(dependent=df3['y'],\n",
    "                    exog=df3[lagged_u],\n",
    "                    endog=df3[lagged_y],\n",
    "                    instruments=df3[lagged_x]\n",
    "                    )\n",
    "results = model_iv_2.fit()\n",
    "\n",
    "print(results.params)"
   ],
   "metadata": {
    "collapsed": false
   }
  },
  {
   "cell_type": "markdown",
   "source": [
    "# Step 3: postulate AR model to predict intermediate vector $omega$"
   ],
   "metadata": {
    "collapsed": false
   }
  }
 ],
 "metadata": {
  "kernelspec": {
   "display_name": "Python 3",
   "language": "python",
   "name": "python3"
  },
  "language_info": {
   "codemirror_mode": {
    "name": "ipython",
    "version": 2
   },
   "file_extension": ".py",
   "mimetype": "text/x-python",
   "name": "python",
   "nbconvert_exporter": "python",
   "pygments_lexer": "ipython2",
   "version": "2.7.6"
  }
 },
 "nbformat": 4,
 "nbformat_minor": 0
}
